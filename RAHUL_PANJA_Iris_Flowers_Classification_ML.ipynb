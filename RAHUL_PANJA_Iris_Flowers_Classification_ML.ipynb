{
  "nbformat": 4,
  "nbformat_minor": 0,
  "metadata": {
    "colab": {
      "provenance": []
    },
    "kernelspec": {
      "name": "python3",
      "display_name": "Python 3"
    },
    "language_info": {
      "name": "python"
    }
  },
  "cells": [
    {
      "cell_type": "markdown",
      "source": [
        "Rahul Panja\n",
        "\n",
        "Topic : Iris Flowers Classification ML"
      ],
      "metadata": {
        "id": "uaYe4UnIXBjm"
      }
    },
    {
      "cell_type": "code",
      "execution_count": 11,
      "metadata": {
        "id": "ncadNePGTCUk"
      },
      "outputs": [],
      "source": [
        "import numpy as np\n",
        "import pandas as pd\n",
        "import matplotlib\n",
        "import seaborn as sns\n",
        "import matplotlib.pyplot as plt\n",
        "%matplotlib inline\n",
        "\n",
        "sns.set_style('darkgrid')\n",
        "matplotlib.rcParams['font.size']=14\n",
        "matplotlib.rcParams['figure.figsize']=(9,5)\n",
        "matplotlib.rcParams['figure.facecolor']='#00000000'\n",
        "\n",
        "import warnings\n",
        "warnings.filterwarnings(\"ignore\")"
      ]
    },
    {
      "cell_type": "code",
      "source": [
        "iris = pd.read_csv(\"/content/Iris.csv\")\n",
        "iris.head()"
      ],
      "metadata": {
        "id": "qfO2KzwcTFiW"
      },
      "execution_count": null,
      "outputs": []
    },
    {
      "cell_type": "code",
      "source": [
        "iris.isnull()"
      ],
      "metadata": {
        "id": "VSeRcNtoVFxH"
      },
      "execution_count": null,
      "outputs": []
    },
    {
      "cell_type": "code",
      "source": [
        "iris.shape"
      ],
      "metadata": {
        "id": "duGDUeJOVFz7"
      },
      "execution_count": null,
      "outputs": []
    },
    {
      "cell_type": "code",
      "source": [
        "slice=iris[5:1020]\n",
        "slice"
      ],
      "metadata": {
        "id": "U2rpFcY_VF2o"
      },
      "execution_count": null,
      "outputs": []
    },
    {
      "cell_type": "code",
      "source": [
        "slice.shape"
      ],
      "metadata": {
        "id": "I31LuhHRVF5X"
      },
      "execution_count": null,
      "outputs": []
    },
    {
      "cell_type": "code",
      "source": [
        "iris.iloc[145]\n",
        "iris.loc[iris[\"SepalWidthCm\"]==3]"
      ],
      "metadata": {
        "id": "wSURSXvTVF8Y"
      },
      "execution_count": null,
      "outputs": []
    },
    {
      "cell_type": "code",
      "source": [
        "iris.iloc[3]"
      ],
      "metadata": {
        "id": "q_SORuDbVF_J"
      },
      "execution_count": null,
      "outputs": []
    },
    {
      "cell_type": "code",
      "source": [
        "iris.describe()"
      ],
      "metadata": {
        "id": "uXHVqLrHVGCC"
      },
      "execution_count": null,
      "outputs": []
    },
    {
      "cell_type": "code",
      "source": [
        "iris.duplicated()"
      ],
      "metadata": {
        "id": "quu_fx1-VcLr"
      },
      "execution_count": null,
      "outputs": []
    },
    {
      "cell_type": "code",
      "source": [
        "iris.describe(include='all')"
      ],
      "metadata": {
        "id": "SmZZ_a6fVcOi"
      },
      "execution_count": null,
      "outputs": []
    },
    {
      "cell_type": "code",
      "source": [
        "iris.kurt()"
      ],
      "metadata": {
        "id": "1P9AVblYVcRs"
      },
      "execution_count": null,
      "outputs": []
    },
    {
      "cell_type": "code",
      "source": [
        "iris.skew()"
      ],
      "metadata": {
        "id": "K383uEtGVcU2"
      },
      "execution_count": null,
      "outputs": []
    },
    {
      "cell_type": "code",
      "source": [
        "plt.figure(figsize=(10,7))\n",
        "plt.title('comparison between sepal width and length')\n",
        "sns.scatterplot(iris['SepalLengthCm'], iris['SepalWidthCm'], hue = iris['Species'], s=50);"
      ],
      "metadata": {
        "id": "G8CksMZaVcbG"
      },
      "execution_count": null,
      "outputs": []
    },
    {
      "cell_type": "code",
      "source": [
        "sns.pairplot(iris,hue= 'Species',height=3);"
      ],
      "metadata": {
        "id": "OyJmmA33VceX"
      },
      "execution_count": null,
      "outputs": []
    },
    {
      "cell_type": "code",
      "source": [
        "iris.corr()"
      ],
      "metadata": {
        "id": "gDPibc9AVcpL"
      },
      "execution_count": null,
      "outputs": []
    },
    {
      "cell_type": "code",
      "source": [
        "fig = plt.figure(figsize=(10,7))\n",
        "sns.heatmap(iris.corr(), cmap='Purples', annot=True);"
      ],
      "metadata": {
        "id": "EOT0jbbfVxtg"
      },
      "execution_count": null,
      "outputs": []
    },
    {
      "cell_type": "code",
      "source": [
        "plt.figure(figsize=(10,7))\n",
        "plt.title('comparison between sepal width and length')\n",
        "sns.scatterplot(iris['PetalLengthCm'], iris['SepalWidthCm'], hue = iris['Species'], s=70);"
      ],
      "metadata": {
        "id": "CTeYViPoVxwj"
      },
      "execution_count": null,
      "outputs": []
    },
    {
      "cell_type": "code",
      "source": [
        "from pandas.plotting import andrews_curves\n",
        "\n",
        "andrews_curves (iris.drop(\"Id\", axis =1), \"Species\")\n",
        "plt.show\n",
        "     "
      ],
      "metadata": {
        "id": "yF_c98aVVxzh"
      },
      "execution_count": null,
      "outputs": []
    },
    {
      "cell_type": "code",
      "source": [
        "x=iris.iloc[:,[0,1,2,3]].values"
      ],
      "metadata": {
        "id": "mJAo9Oa9Vx2S"
      },
      "execution_count": 37,
      "outputs": []
    },
    {
      "cell_type": "code",
      "source": [
        "from sklearn.cluster import KMeans\n",
        "kmeans = KMeans(n_clusters=3, init= 'k-means++', max_iter =300,n_init = 10,random_state=0)\n",
        "y_kmeans = kmeans.fit_predict(x)\n",
        "print(kmeans.cluster_centers_)\n",
        "plt.scatter(x[y_kmeans == 0,0], x[y_kmeans == 0,1], s= 100, c='red', label = 'Iris-setosa')\n",
        "plt.scatter(x[y_kmeans == 1,0], x[y_kmeans == 1,1], s= 100, c='blue', label = 'Iris-versicolor')\n",
        "plt.scatter(x[y_kmeans == 2,0], x[y_kmeans == 2,1], s= 100, c='green', label = 'Iris-virginica')\n",
        "plt.scatter(kmeans.cluster_centers_[:, 0], kmeans.cluster_centers_[:,1],s=100, c='black', label = 'Centroids')\n",
        "plt.legend()\n",
        "plt.show()"
      ],
      "metadata": {
        "id": "UEYCZZadVx5g"
      },
      "execution_count": null,
      "outputs": []
    },
    {
      "cell_type": "code",
      "source": [
        "from sklearn.metrics import confusion_matrix\n",
        "from sklearn.metrics import classification_report\n",
        "from sklearn.model_selection import train_test_split"
      ],
      "metadata": {
        "id": "TMIc0hBUVx7l"
      },
      "execution_count": 39,
      "outputs": []
    },
    {
      "cell_type": "code",
      "source": [
        "X = iris.iloc[:, :-1].values\n",
        "y = iris.iloc[:, -1].values\n",
        "X_train, X_test, y_train, y_test = train_test_split(X, y, test_size = 0.2, random_state = 0)"
      ],
      "metadata": {
        "id": "zOh6MkHmV8Qw"
      },
      "execution_count": 40,
      "outputs": []
    },
    {
      "cell_type": "markdown",
      "source": [
        "Logistic Regression"
      ],
      "metadata": {
        "id": "3HrPJHSkV_yf"
      }
    },
    {
      "cell_type": "code",
      "source": [
        "from sklearn.linear_model import LogisticRegression\n",
        "classifier = LogisticRegression()\n",
        "classifier.fit(X_train, y_train)\n",
        "y_pred = classifier.predict(X_test)\n",
        "print(classification_report(y_test, y_pred))\n",
        "print(confusion_matrix(y_test, y_pred))\n",
        "from sklearn.metrics import accuracy_score\n",
        "print('accuracy is',accuracy_score(y_pred,y_test))"
      ],
      "metadata": {
        "id": "xhvfza7qWARB"
      },
      "execution_count": null,
      "outputs": []
    },
    {
      "cell_type": "markdown",
      "source": [
        "KNeighbours Classifier"
      ],
      "metadata": {
        "id": "35b-RD3hWIcy"
      }
    },
    {
      "cell_type": "code",
      "source": [
        "from sklearn.neighbors import KNeighborsClassifier\n",
        "classifier = KNeighborsClassifier(n_neighbors=8)\n",
        "classifier.fit(X_train, y_train)\n",
        "\n",
        "y_pred = classifier.predict(X_test)\n",
        "print(classification_report(y_test, y_pred))\n",
        "print(confusion_matrix(y_test, y_pred))\n",
        "from sklearn.metrics import accuracy_score\n",
        "print('accuracy is',accuracy_score(y_pred,y_test))"
      ],
      "metadata": {
        "id": "sFpnMopbV-9x"
      },
      "execution_count": null,
      "outputs": []
    },
    {
      "cell_type": "markdown",
      "source": [
        "naive_bayes GaussianNB"
      ],
      "metadata": {
        "id": "fP2r1P91WM-k"
      }
    },
    {
      "cell_type": "code",
      "source": [
        "from sklearn.naive_bayes import GaussianNB\n",
        "classifier = GaussianNB()\n",
        "classifier.fit(X_train, y_train)\n",
        "\n",
        "y_pred = classifier.predict(X_test)\n",
        "\n",
        "\n",
        "print(classification_report(y_test, y_pred))\n",
        "print(confusion_matrix(y_test, y_pred))\n",
        "\n",
        "from sklearn.metrics import accuracy_score\n",
        "print('accuracy is',accuracy_score(y_pred,y_test))\n",
        "     "
      ],
      "metadata": {
        "id": "r0uBidR4V_Ac"
      },
      "execution_count": null,
      "outputs": []
    }
  ]
}